{
 "cells": [
  {
   "cell_type": "raw",
   "metadata": {},
   "source": [
    "---\n",
    "title: Peeking into the brain with games\n",
    "author: lucianopaz\n",
    "caption: \"\"\n",
    "image: \"\"\n",
    "summary: \"Some javascript, database handling and artificial intelligence to tackle how the brain works\"\n",
    "tags:\n",
    "- behavior\n",
    "- javascript\n",
    "- databases\n",
    "- artificial intelligence\n",
    "categories:\n",
    "- behavior\n",
    "featured: true\n",
    "draft: true\n",
    "\n",
    "# Featured image\n",
    "# To use, add an image named `featured.jpg/png` to your page's folder.\n",
    "# Placement options: 1 = Full column width, 2 = Out-set, 3 = Screen-width\n",
    "# Focal point options: Smart, Center, TopLeft, Top, TopRight, Left, Right, BottomLeft, Bottom, BottomRight\n",
    "image:\n",
    "  placement: 1\n",
    "  caption: \"Some caption\"\n",
    "  focal_point: \"\"\n",
    "  preview_only: false\n",
    "\n",
    "# Projects (optional).\n",
    "#   Associate this post with one or more of your projects.\n",
    "#   Simply enter your project's folder or file name without extension.\n",
    "#   E.g. `projects = [\"internal-project\"]` references `content/project/deep-learning/index.md`.\n",
    "#   Otherwise, set `projects = []`.\n",
    "projects: [\"behavior\"]\n",
    "\n",
    "# Set captions for image gallery.\n",
    "# gallery_item:\n",
    "#- album: gallery\n",
    "#  caption: Default\n",
    "#  image: theme-default.png\n",
    "---"
   ]
  },
  {
   "cell_type": "markdown",
   "metadata": {},
   "source": [
    "I had the huge privilege of working on part of the [Matemarote project](https://www.matemarote.edu.uy/MateMarote/) during my PhD. I wanted to write a short post in which I showcase part of the project, and in particular the goals that my work had within the bigger project. I wont go into all the details as those can be found in the papers ([1](https://www.sciencedirect.com/science/article/pii/S0360131513001462), [2](https://www.pnas.org/content/111/17/6443.short)).\n",
    "\n",
    "---\n",
    "\n",
    "### Small foreword on the Matemarote project\n",
    "\n",
    "Matemarote is an educational framework aimed for young children (in between 5 to 7 years old). The kids get to play three tailored made computer games that are designed to exercise something called _cognitive functions_. Broadly speaking, these are low level skills, such as planning and impulse control (technically inhibitory control), that vastly affect our everyday activities. The main focus of the study was to explore if the games helped improve some educational markers at school (which [they do](https://www.pnas.org/content/111/17/6443.short)).\n",
    "\n",
    "### So what do I have to do in all of this?\n",
    "\n",
    "The big picture and the big goals of Matemarote were purely socio-educational. However, the parents of the children that participated in the studies gave their consent for us to gather the data on how they played the games they played. This big dataset gave us the opportunity to try to study behavior, decision making and planning using tools borrowed from data science and artificial intelligence. That's where I came in!"
   ]
  },
  {
   "cell_type": "markdown",
   "metadata": {},
   "source": [
    "### What can we learn from gameplay?\n",
    "##### Quite a lot, depending on the game you play...\n",
    "\n",
    "So the game that the kids played was a variant of an n-puzzle (don't worry if you don't know what that is, I'll include the more widely known version of it later in the post). Their goal was to move some characters around a board, one at a time, without having more than one character at the same position, until they managed to bring them all to their target location. The typical n-puzzle is made with tiles that form an image, one tile is missing, and the players are free to move the tiles that are neighboring the empty space until they form the full image. A working example is shown below:"
   ]
  },
  {
   "cell_type": "code",
   "execution_count": null,
   "metadata": {},
   "outputs": [],
   "source": []
  }
 ],
 "metadata": {
  "kernelspec": {
   "display_name": "Python 3",
   "language": "python",
   "name": "python3"
  },
  "language_info": {
   "codemirror_mode": {
    "name": "ipython",
    "version": 3
   },
   "file_extension": ".py",
   "mimetype": "text/x-python",
   "name": "python",
   "nbconvert_exporter": "python",
   "pygments_lexer": "ipython3",
   "version": "3.6.8"
  }
 },
 "nbformat": 4,
 "nbformat_minor": 2
}
